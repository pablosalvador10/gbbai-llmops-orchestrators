{
 "cells": [
  {
   "cell_type": "markdown",
   "metadata": {},
   "source": [
    "## 🚀 Motivation\n",
    "\n",
    "Understand how to evaluate relevance and optimize your search using azure searc python api SDK !"
   ]
  },
  {
   "cell_type": "markdown",
   "metadata": {},
   "source": [
    "## ❗ Problem Statement\n",
    "\n",
    "\n",
    "##### Understand Quantitve measure of relevenace \n",
    "\n",
    "\n",
    "+ **NDCG@10**: This metric, standing for Normalized Discounted Cumulative Gain at 10, rates a retrieval system's effectiveness in finding and correctly ordering the top 10 documents. The score ranges from 0 to 100, reflecting how closely the system's ordered list matches the ideal order of documents. NDCG@10 is widely used for its balance in evaluating both the precision of results and their proper sequencing.\n",
    "\n",
    "- **NDCG@3**: Similar to NDCG@10, NDCG@3 focuses on the top 3 documents. It's particularly relevant in contexts where the highest accuracy in the topmost results is crucial, like in generative AI applications. This metric scores the system's ability to identify and correctly rank the three most relevant documents.\n",
    "\n",
    "+ **Recall@50**: This measures the proportion of high-quality documents identified within the top 50 results. It's calculated by counting the number of documents rated as high quality by a scoring prompt and dividing this by the total number of known good documents for a given query. It's a useful metric for assessing the system's ability to retrieve a broad set of relevant documents from a large pool.\n",
    "\n",
    "##### The limitation of semantic search and embeddings \n",
    "\n",
    "+ Limitations of Embedding-Based Search\n",
    "\n",
    "    - Weakness in Keyword Precision: Embedding-based search excels in understanding the overall context and semantic meaning but may falter in accurately identifying specific keywords or phrases.It can miss documents containing exact terms if those terms are not semantically aligned with the rest of the content or query.\n",
    "    + Contextual Misinterpretation: Embeddings can sometimes overgeneralize or misinterpret the context, leading to the retrieval of documents that are broadly relevant but miss specific nuances or details. They might struggle with distinguishing subtle differences in meanings, especially in specialized or technical domains.\n",
    "    - Dependency on Training Data:The effectiveness of embeddings is highly dependent on the data they were trained on. If the training data lacks diversity or depth in certain topics, the embeddings may not capture those areas well.\n",
    "\n",
    "+ Limitations of Semantic Search\n",
    "\n",
    "    - Struggles with Synonyms and Paraphrasing:Traditional semantic search methods are often rigid in matching terms. They might not recognize synonyms or different ways of expressing the same idea, limiting their ability to retrieve all relevant documents.\n",
    "    + Limited Understanding of Context:\n",
    "    Semantic search can be effective in finding documents with specific terms but might not fully grasp the broader context or the intent behind a query. This limitation becomes pronounced in complex queries where understanding the context or the relationship between terms is crucial.\n",
    "\n"
   ]
  },
  {
   "cell_type": "markdown",
   "metadata": {},
   "source": [
    "## 💡 Solution\n",
    "\n",
    "\n",
    "Hybrid Search as a Winner: Hybrid search combines keyword and vector search methods, capitalizing on the strengths of both. Keyword search excels in identifying specific terms, while vector search excels in understanding semantic similarities. This combination ensures a more comprehensive and accurate retrieval of documents, making it especially effective for diverse and complex search queries.\n",
    "\n",
    "Re-Ranking and L2 in Cognitive Search: The L2 layer in cognitive search improves upon the initial retrieval (L1) results by applying advanced ranking algorithms. It reorders the top documents, focusing on enhancing relevance and contextual accuracy. This is particularly important in scenarios where the initial retrieval might miss subtle nuances. L2 uses more sophisticated techniques, often leveraging deep learning models, to ensure the most relevant results are prioritized. \n",
    "\n",
    "In more detail: The semantic ranker runs the query and documents text simultaneously though transformer models that utilize the cross-attention mechanism to produce a ranker score. The query and document chunk score is calibrated to a range that is consistent across all indexes and queries. A score of 0 represents a very irrelevant chunk, and a score of 4 represents an excellent one. In the chart below, Hybrid + Semantic ranking finds the best content for the LLM at each result set size. "
   ]
  },
  {
   "cell_type": "markdown",
   "metadata": {},
   "source": [
    "## 📝 How-to\n",
    "\n",
    "### 🌐 Azure Hybrid Search with Semantic Reranker\n",
    "\n",
    "This section covers the implementation of a hybrid search system that combines traditional Azure search with a semantic reranker for improved results.\n",
    "\n",
    "### 📊 Implementation of Evaluation Metrics using Scikit-learn\n",
    "\n",
    "We will use the `ndcg_score` function from the `sklearn.metrics` module to evaluate our search system. This function calculates the Normalized Discounted Cumulative Gain (NDCG), a commonly used metric for evaluating the quality of a ranked list of items.\n",
    "\n",
    "```python\n",
    "from sklearn.metrics import ndcg_score\n",
    "import numpy as np\n",
    "\n",
    "# Sample data: Predicted scores and true relevance scores for a set of documents\n",
    "predicted_scores = np.array([[0.9, 0.8, 0.7, 0.6, 0.5, 0.4, 0.3, 0.2, 0.1, 0.05]])\n",
    "true_relevance = np.array([[1, 1, 0, 0, 1, 0, 0, 0, 0, 0]])  # Assuming binary relevance (1 for relevant, 0 for not relevant)\n",
    "\n",
    "# NDCG@10\n",
    "ndcg_at_10 = ndcg_score(true_relevance, predicted_scores, k=10)\n",
    "print(f\"NDCG@10: {ndcg_at_10}\")\n",
    "\n",
    "# NDCG@3\n",
    "ndcg_at_3 = ndcg_score(true_relevance, predicted_scores, k=3)\n",
    "print(f\"NDCG@3: {ndcg_at_3}\")\n",
    "\n",
    "# Recall@50 - Normally, we'd have 50 documents, but for this example, we'll use the 10 we have\n",
    "relevant_documents_count = np.sum(true_relevance)\n",
    "recall_at_50 = relevant_documents_count / len(true_relevance[0])  # Dividing by total documents (50 ideally)\n",
    "print(f\"Recall@50: {recall_at_50}\")\n",
    "```\n",
    "\n",
    "### 🎯 Evaluation Process\n",
    "\n",
    "1. **🔍 Gather Azure Cognitive Search Results**: Retrieve the search results from Azure Cognitive Search.\n",
    "\n",
    "2. **🎯 Define Ground Truth Relevance Scores**: Establish a ground truth set of relevance scores for the search results.\n",
    "\n",
    "3. **📈 Calculate NDCG@3**: Use the `ndcg_score` function to calculate the NDCG at the 3rd position. This gives us a measure of the quality of the top 3 results.\n",
    "```"
   ]
  },
  {
   "cell_type": "markdown",
   "metadata": {},
   "source": [
    "### Prerequisites\n",
    "\n",
    "Before running the script, you need to install some Python packages. These packages provide the functionality needed by the script.\n",
    "\n",
    "Here's the command to install these packages:\n",
    "\n",
    "```python\n",
    "%pip install azure-search-documents==11.4.0b10\n",
    "```\n",
    "\n",
    "This script requires several environment variables to be set. Here's a list of these variables and what they're used for:\n",
    "\n",
    "- `AZURE_SEARCH_SERVICE_ENDPOINT`: This is the endpoint for your Azure Cognitive Search service. It should be in the form `https://<your-search-service-name>.search.windows.net`.\n",
    "\n",
    "- `AZURE_SEARCH_ADMIN_KEY`: This is the admin key for your Azure Cognitive Search service. You can find this in the \"Keys\" section of your search service in the Azure portal.\n",
    "\n",
    "- `OPENAI_API_KEY`: This is your OpenAI API key. You can find this on the OpenAI website, under your account settings.\n",
    "\n",
    "- `OPENAI_ENDPOINT`: This is the endpoint for the OpenAI API. It should be in the form `https://<your unique endpoint identifier>.openai.azure.com`.\n",
    "\n",
    "- `AZURE_OPENAI_API_VERSION`: This is the version of the OpenAI API that you're using. For example, `v1`.\n",
    "\n",
    "- `AZURE_OPENAI_EMBEDDINGS_DEPLOYMENT_ID`: This is the ID of your OpenAI embeddings deployment. You can find this on the OpenAI website, under your deployments.\n",
    "\n",
    "Remember to store these variables in a `.env` file and never commit them to version control to keep your credentials secure.\n"
   ]
  },
  {
   "cell_type": "code",
   "execution_count": 3,
   "metadata": {},
   "outputs": [
    {
     "name": "stdout",
     "output_type": "stream",
     "text": [
      "Collecting azure-search-documents==11.4.0b10\n",
      "  Using cached azure_search_documents-11.4.0b10-py3-none-any.whl.metadata (22 kB)\n",
      "Requirement already satisfied: azure-core<2.0.0,>=1.24.0 in c:\\users\\pablosal\\appdata\\local\\anaconda3\\envs\\build-your-own-copilot\\lib\\site-packages (from azure-search-documents==11.4.0b10) (1.29.5)\n",
      "Requirement already satisfied: azure-common~=1.1 in c:\\users\\pablosal\\appdata\\local\\anaconda3\\envs\\build-your-own-copilot\\lib\\site-packages (from azure-search-documents==11.4.0b10) (1.1.28)\n",
      "Requirement already satisfied: isodate>=0.6.0 in c:\\users\\pablosal\\appdata\\local\\anaconda3\\envs\\build-your-own-copilot\\lib\\site-packages (from azure-search-documents==11.4.0b10) (0.6.1)\n",
      "Requirement already satisfied: requests>=2.18.4 in c:\\users\\pablosal\\appdata\\local\\anaconda3\\envs\\build-your-own-copilot\\lib\\site-packages (from azure-core<2.0.0,>=1.24.0->azure-search-documents==11.4.0b10) (2.31.0)\n",
      "Requirement already satisfied: six>=1.11.0 in c:\\users\\pablosal\\appdata\\local\\anaconda3\\envs\\build-your-own-copilot\\lib\\site-packages (from azure-core<2.0.0,>=1.24.0->azure-search-documents==11.4.0b10) (1.16.0)\n",
      "Requirement already satisfied: typing-extensions>=4.6.0 in c:\\users\\pablosal\\appdata\\local\\anaconda3\\envs\\build-your-own-copilot\\lib\\site-packages (from azure-core<2.0.0,>=1.24.0->azure-search-documents==11.4.0b10) (4.8.0)\n",
      "Requirement already satisfied: charset-normalizer<4,>=2 in c:\\users\\pablosal\\appdata\\local\\anaconda3\\envs\\build-your-own-copilot\\lib\\site-packages (from requests>=2.18.4->azure-core<2.0.0,>=1.24.0->azure-search-documents==11.4.0b10) (3.3.2)\n",
      "Requirement already satisfied: idna<4,>=2.5 in c:\\users\\pablosal\\appdata\\local\\anaconda3\\envs\\build-your-own-copilot\\lib\\site-packages (from requests>=2.18.4->azure-core<2.0.0,>=1.24.0->azure-search-documents==11.4.0b10) (3.4)\n",
      "Requirement already satisfied: urllib3<3,>=1.21.1 in c:\\users\\pablosal\\appdata\\local\\anaconda3\\envs\\build-your-own-copilot\\lib\\site-packages (from requests>=2.18.4->azure-core<2.0.0,>=1.24.0->azure-search-documents==11.4.0b10) (2.1.0)\n",
      "Requirement already satisfied: certifi>=2017.4.17 in c:\\users\\pablosal\\appdata\\local\\anaconda3\\envs\\build-your-own-copilot\\lib\\site-packages (from requests>=2.18.4->azure-core<2.0.0,>=1.24.0->azure-search-documents==11.4.0b10) (2023.7.22)\n",
      "Using cached azure_search_documents-11.4.0b10-py3-none-any.whl (312 kB)\n",
      "Installing collected packages: azure-search-documents\n",
      "  Attempting uninstall: azure-search-documents\n",
      "    Found existing installation: azure-search-documents 11.4.0b8\n",
      "    Uninstalling azure-search-documents-11.4.0b8:\n",
      "      Successfully uninstalled azure-search-documents-11.4.0b8\n",
      "Successfully installed azure-search-documents-11.4.0b10\n",
      "Note: you may need to restart the kernel to use updated packages.\n"
     ]
    }
   ],
   "source": [
    "%pip install azure-search-documents==11.4.0b10"
   ]
  },
  {
   "cell_type": "code",
   "execution_count": 1,
   "metadata": {},
   "outputs": [],
   "source": [
    "import os\n",
    "from dotenv import load_dotenv\n",
    "from azure.core.credentials import AzureKeyCredential\n",
    "import openai\n",
    "from azure.search.documents import SearchClient\n",
    "from openai.embeddings_utils import cosine_similarity, get_embedding\n",
    "from azure.search.documents.models import RawVectorQuery"
   ]
  },
  {
   "cell_type": "code",
   "execution_count": 2,
   "metadata": {},
   "outputs": [],
   "source": [
    "# Load environment variables from .env file\n",
    "load_dotenv()\n",
    "\n",
    "# Set up Azure Cognitive Search credentials\n",
    "service_endpoint = os.getenv(\"AZURE_SEARCH_SERVICE_ENDPOINT\")\n",
    "key = os.getenv(\"AZURE_SEARCH_ADMIN_KEY\")\n",
    "credential = AzureKeyCredential(key)\n",
    "\n",
    "# Set up OpenAI credentials and settings\n",
    "openai.api_type = \"azure\"\n",
    "openai.api_key = os.getenv(\"OPENAI_API_KEY\")\n",
    "openai.api_base = os.getenv('OPENAI_ENDPOINT')\n",
    "openai.api_version = os.getenv(\"AZURE_OPENAI_API_VERSION\")\n",
    "\n",
    "# Set up model details\n",
    "model_name = \"text-embedding-ada-002\"\n",
    "ADA_DEPLOYMENT = os.getenv('AZURE_OPENAI_EMBEDDINGS_DEPLOYMENT_ID')\n",
    "\n",
    "# Validate OpenAI API key and endpoint\n",
    "assert openai.api_key, \"ERROR: Azure OpenAI Key is missing\"\n",
    "assert openai.api_base, \"ERROR: Azure OpenAI Endpoint is missing\"\n",
    "assert \"openai.azure.com\" in openai.api_base.lower(), \"ERROR: Azure OpenAI Endpoint should be in the form: \\n\\n\\t<your unique endpoint identifier>.openai.azure.com\""
   ]
  },
  {
   "cell_type": "code",
   "execution_count": 3,
   "metadata": {},
   "outputs": [],
   "source": [
    "# Define the name of the Azure Search index\n",
    "# This is the index where your data is stored in Azure Search\n",
    "index_name = 'index-teradyne-web'\n",
    "\n",
    "# Set up the Azure Search client with the specified index\n",
    "# This prepares the client to interact with the Azure Search service\n",
    "search_client = SearchClient(service_endpoint, index_name, credential=credential)"
   ]
  },
  {
   "cell_type": "code",
   "execution_count": 4,
   "metadata": {},
   "outputs": [],
   "source": [
    "search_query = \"On UltraFLEX platform, design an external instrument that can fast charge a smart phone.\"\n",
    "search_vector = get_embedding(search_query, engine=\"foundational-ada\")"
   ]
  },
  {
   "cell_type": "code",
   "execution_count": null,
   "metadata": {},
   "outputs": [],
   "source": [
    "# Pure vector Search\n",
    "\n",
    "r = search_client.search(None, top=5, vector_queries=[RawVectorQuery(vector=search_vector, k=50, fields=\"content_vector\")])\n",
    "for doc in r:\n",
    "    content = doc[\"content\"].replace(\"\\n\", \" \")[:1000]\n",
    "    print(f\"score: {doc['@search.score']}. {content}\")"
   ]
  },
  {
   "cell_type": "code",
   "execution_count": 12,
   "metadata": {},
   "outputs": [
    {
     "name": "stdout",
     "output_type": "stream",
     "text": [
      "score: 8.379741. 18.12.1. Who Performs the OrdinanceOrdinances and blessings are sacred acts performed by the authority of the priesthood and in the name of Jesus Christ. As priesthood holders perform ordinances and blessings, they follow the Savior’s example of blessing others.\n",
      "score: 8.292201. 18.10.4. Who Performs the OrdinanceOrdinances and blessings are sacred acts performed by the authority of the priesthood and in the name of Jesus Christ. As priesthood holders perform ordinances and blessings, they follow the Savior’s example of blessing others.\n",
      "score: 8.288818. 18.6.1. Who Gives the BlessingOrdinances and blessings are sacred acts performed by the authority of the priesthood and in the name of Jesus Christ. As priesthood holders perform ordinances and blessings, they follow the Savior’s example of blessing others.   18.6.2. InstructionsOrdinances and blessings are sacred acts performed by the authority of the priesthood and in the name of Jesus Christ. As priesthood holders perform ordinances and blessings, they follow the Savior’s example of blessing others.\n",
      "score: 8.130054. 18.9.2. Who Performs the OrdinanceOrdinances and blessings are sacred acts performed by the authority of the priesthood and in the name of Jesus Christ. As priesthood holders perform ordinances and blessings, they follow the Savior’s example of blessing others.\n",
      "score: 7.8656917. 10.1.1. PurposeAaronic Priesthood quorums help young men make and keep sacred covenants and deepen their conversion to Jesus Christ and His gospel.   10.1.2. Aaronic Priesthood Quorum ThemeAaronic Priesthood quorums help young men make and keep sacred covenants and deepen their conversion to Jesus Christ and His gospel.   10.1.3. QuorumsAaronic Priesthood quorums help young men make and keep sacred covenants and deepen their conversion to Jesus Christ and His gospel.\n"
     ]
    }
   ],
   "source": [
    "#keyword search\n",
    "r = search_client.search(search_query, top=5)\n",
    "for doc in r:\n",
    "    if \"Jesus\" in doc[\"content\"]:\n",
    "        content = doc[\"content\"].replace(\"\\n\", \" \")[:1000]\n",
    "        print(f\"score: {doc['@search.score']}. {content}\")"
   ]
  },
  {
   "cell_type": "code",
   "execution_count": 13,
   "metadata": {},
   "outputs": [
    {
     "name": "stdout",
     "output_type": "stream",
     "text": [
      "score: 0.027973394840955734. 17.1. Principles of Christlike Teaching   17.1. Principles of Christlike TeachingEffective gospel teaching helps people grow in their testimonies and their faith in Heavenly Father and Jesus Christ.   17.1.1. Love Those You TeachEffective gospel teaching helps people grow in their testimonies and their faith in Heavenly Father and Jesus Christ.   17.1.2. Teach by the SpiritEffective gospel teaching helps people grow in their testimonies and their faith in Heavenly Father and Jesus Christ.\n",
      "score: 0.026012461632490158. God’s Work of Salvation and Exaltation   Living the Gospel of Jesus Christ   16. Living the Gospel of Jesus ChristWe live the gospel as we exercise faith in Jesus Christ, repent daily, make covenants with God as we receive the ordinances of salvation and exaltation, and endure to the end by keeping those covenants.  17. Teaching the Gospel   17. Teaching the GospelEffective gospel teaching helps people grow in their testimonies and their faith in Heavenly Father and Jesus Christ.\n",
      "score: 0.022557269781827927. Doctrinal Foundation   1. God’s Plan and Your Role in His Work of Salvation and Exaltation   1.0. IntroductionThis chapter will help you gain a vision of God’s plan of happiness, His work of salvation and exaltation, and the purpose of The Church of Jesus Christ of Latter-day Saints.   1.1. God’s Plan of HappinessThis chapter will help you gain a vision of God’s plan of happiness, His work of salvation and exaltation, and the purpose of The Church of Jesus Christ of Latter-day Saints.\n",
      "score: 0.021963562816381454. 32.2.2. Help a Person Access the Redeeming Power of Jesus Christ through RepentanceMost repentance takes place between an individual, God, and those who have been affected by a person’s sins. However, sometimes a bishop or stake president needs to help Church members in their efforts to repent.\n",
      "score: 0.02126545086503029. 14.2.1. Living the Gospel of Jesus ChristMen and women who have not married or who are divorced or widowed make up a significant portion of Church membership. Leaders reach out to these members and include them in the work of the Church.   14.2.2. Caring for Those in NeedMen and women who have not married or who are divorced or widowed make up a significant portion of Church membership. Leaders reach out to these members and include them in the work of the Church.\n"
     ]
    }
   ],
   "source": [
    "# hybrid retrieval\n",
    "search_query = \"Who is Jesus Christ?\"\n",
    "search_vector = get_embedding(search_query, engine=\"foundational-ada\")\n",
    "r = search_client.search(search_query, top=5, vector_queries=[RawVectorQuery(vector=search_vector, k=50, fields=\"content_vector\")])\n",
    "for doc in r:\n",
    "    content = doc[\"content\"].replace(\"\\n\", \" \")[:1000]\n",
    "    print(f\"score: {doc['@search.score']}. {content}\")"
   ]
  },
  {
   "cell_type": "code",
   "execution_count": 5,
   "metadata": {},
   "outputs": [
    {
     "name": "stdout",
     "output_type": "stream",
     "text": [
      "score: 0.026916220784187317, reranker: 2.1510417461395264. The UltraWaveMX20-D16 is Teradyne’s lower frequency band instrument. It is also an extension to the UltraWave24 to provide additional test coverage up to 20 GHz. This frequency band targets devices that have WiFi-6, Cellular 5G, Ultra-wideband, and 5G-NR IF interfaces. Each UltraWaveMX20-D16 provides 16 mmWave ports in the test system with the ability to scale to 64 mmWave ports for high site count testing. The UltraWaveMX8 adds mid-band RF test capabilities to support WiFi-6E & 5G test needs. Adding the MX8 as a 1-slot upgrade to any UltraFLEX system with UltraWave24 extends the frequency range to 7.5GHz. Up to 160 MHz of bandwidth is available for supporting 802.11 modulated tests, and 16 RF ports with 8 channels are provided for high parallelism and efficiency. The MX8 provides industry-leading WiFi-6E test capabilities with faster time to market, higher yields, and lower costs.\n",
      "score: 0.026511315256357193, reranker: 2.090963840484619. UVI264 – High Precision, High Density DC Instrument  104 low voltage channels muxed to 248 connections 8 high voltage channels muxed to 16 connections Flexible channel merge for USB charging standard High precision DC measurements   The UltraFLEX Family\n",
      "score: 0.0317540317773819, reranker: 2.068249225616455. Search for:   Close    Home  UltraFLEXplus   The World’s Leading Semiconductor Test Platform   The UltraFLEXplus combines new instrument and software capabilities with a revolutionary tester infrastructure that provides a step-function improvement in throughput and engineering efficiency – all while leveraging the cumulative test IP developed over the UltraFLEX’s long history.  AdvantagesApplications & ConfigurationsSystem OptionsUltraFLEX Family  Contact Teradyne   Advantages\n",
      "score: 0.02038152515888214, reranker: 1.967409610748291. Teradyne’s award winning IG-XL software transforms test program development for the FLEX, UltraFLEX and J750 family of testers. Its powerful, yet easy-to-use, graphical environment lets engineers rapidly develop fully functional test programs, cutting program development and debugging time. Designed to address multisite complexity, IG-XL can convert single site test programs to multisite automatically, speeding time to market and reducing cost of test. With IG-XL, test engineers focus on actual testing, not writing code for the tester.\n",
      "score: 0.027745885774493217, reranker: 1.9635798931121826. The UltraWave24 high port count RF options provide up to 96 universal, vector RF ports with carrier frequencies and modulation bandwidths to cover the most advanced cellular and connectivity standards. The UltraWave options offer accuracy and phase noise performance equal to or better than the highest performance bench equipment available, and integrate waveform sourcing and capturing onboard to eliminate the need for additional tester instruments. The UltraFLEX ESA software toolkit and UltraDSP1 option provide industry-standard modulation and demodulation tools running on up to 32 dedicated processing cores with automatic data download via a dedicated high-speed data bus for simple correlation to industry standards and the highest possible throughput.\n"
     ]
    }
   ],
   "source": [
    "# hybrid retrieval + rerank \n",
    "r = search_client.search(\n",
    "        search_query,\n",
    "        top=5, \n",
    "        vector_queries=[RawVectorQuery(vector=search_vector, k=50, fields=\"content_vector\")],\n",
    "        query_type=\"semantic\",\n",
    "        semantic_configuration_name=\"config\",\n",
    "        query_language=\"en-us\")\n",
    "\n",
    "for doc in r:\n",
    "    content = doc[\"content\"].replace(\"\\n\", \" \")[:1000]\n",
    "    print(f\"score: {doc['@search.score']}, reranker: {doc['@search.reranker_score']}. {content}\")"
   ]
  },
  {
   "cell_type": "code",
   "execution_count": 19,
   "metadata": {},
   "outputs": [],
   "source": [
    "import logging\n",
    "import json\n",
    "from typing import List, Dict, Union\n",
    "\n",
    "from azure.search.documents._paging import SearchItemPaged\n",
    "\n",
    "# Set up logging\n",
    "logging.basicConfig(level=logging.INFO)\n",
    "logger = logging.getLogger(__name__)\n"
   ]
  },
  {
   "cell_type": "code",
   "execution_count": 20,
   "metadata": {},
   "outputs": [],
   "source": [
    "# hybrid retrieval + rerank \n",
    "r = search_client.search(\n",
    "        search_query,\n",
    "        top=5, \n",
    "        vector_queries=[RawVectorQuery(vector=search_vector, k=50, fields=\"content_vector\")],\n",
    "        query_type=\"semantic\",\n",
    "        semantic_configuration_name=\"config\",\n",
    "        query_language=\"en-us\")\n"
   ]
  },
  {
   "cell_type": "code",
   "execution_count": 21,
   "metadata": {},
   "outputs": [],
   "source": [
    "def process_search_results(result: SearchItemPaged) -> List[Dict[str, str]]:\n",
    "    \"\"\"\n",
    "    Process the results from a search query in an Azure Cognitive Search index.\n",
    "\n",
    "    Args:\n",
    "        result (SearchItemPaged): The results from a search query.\n",
    "\n",
    "    Returns:\n",
    "        List[Dict[str, str]]: A list of dictionaries, where each dictionary contains the content and source of a document.\n",
    "    \"\"\"\n",
    "    results = []\n",
    "    for doc in result:\n",
    "        content = doc[\"content\"].replace(\"\\n\", \" \")[:1000]\n",
    "        metadata = json.loads(doc[\"metadata\"])\n",
    "        source = metadata.get(\"source\", \"\")\n",
    "\n",
    "        logger.info(\n",
    "            f\"score: {doc['@search.score']}, reranker: {doc['@search.reranker_score']}. {content}\"\n",
    "        )\n",
    "        logger.info(f\"source: {source}\")\n",
    "\n",
    "        results.append({\n",
    "            \"content\": content,\n",
    "            \"source\": source,\n",
    "        })\n",
    "\n",
    "    return results"
   ]
  },
  {
   "cell_type": "code",
   "execution_count": 22,
   "metadata": {},
   "outputs": [
    {
     "name": "stderr",
     "output_type": "stream",
     "text": [
      "INFO:azure.core.pipeline.policies.http_logging_policy:Request URL: 'https://azure-ai-search-dev-eastus-001.search.windows.net/indexes('index-teradyne-web')/docs/search.post.search?api-version=REDACTED'\n",
      "Request method: 'POST'\n",
      "Request headers:\n",
      "    'Content-Type': 'application/json'\n",
      "    'Content-Length': '34698'\n",
      "    'api-key': 'REDACTED'\n",
      "    'Accept': 'application/json;odata.metadata=none'\n",
      "    'x-ms-client-request-id': 'f9d5c540-8a24-11ee-9f6c-f43bd8cfe846'\n",
      "    'User-Agent': 'azsdk-python-search-documents/11.4.0b10 Python/3.9.18 (Windows-10-10.0.22631-SP0)'\n",
      "A body is sent with the request\n",
      "INFO:azure.core.pipeline.policies.http_logging_policy:Response status: 200\n",
      "Response headers:\n",
      "    'Transfer-Encoding': 'chunked'\n",
      "    'Content-Type': 'application/json; odata.metadata=none; odata.streaming=true; charset=utf-8'\n",
      "    'Content-Encoding': 'REDACTED'\n",
      "    'Vary': 'REDACTED'\n",
      "    'Server': 'Microsoft-IIS/10.0'\n",
      "    'Strict-Transport-Security': 'REDACTED'\n",
      "    'Preference-Applied': 'REDACTED'\n",
      "    'OData-Version': 'REDACTED'\n",
      "    'request-id': 'f9d5c540-8a24-11ee-9f6c-f43bd8cfe846'\n",
      "    'elapsed-time': 'REDACTED'\n",
      "    'Date': 'Thu, 23 Nov 2023 17:23:11 GMT'\n",
      "INFO:__main__:score: 0.026916220784187317, reranker: 2.1510417461395264. The UltraWaveMX20-D16 is Teradyne’s lower frequency band instrument. It is also an extension to the UltraWave24 to provide additional test coverage up to 20 GHz. This frequency band targets devices that have WiFi-6, Cellular 5G, Ultra-wideband, and 5G-NR IF interfaces. Each UltraWaveMX20-D16 provides 16 mmWave ports in the test system with the ability to scale to 64 mmWave ports for high site count testing. The UltraWaveMX8 adds mid-band RF test capabilities to support WiFi-6E & 5G test needs. Adding the MX8 as a 1-slot upgrade to any UltraFLEX system with UltraWave24 extends the frequency range to 7.5GHz. Up to 160 MHz of bandwidth is available for supporting 802.11 modulated tests, and 16 RF ports with 8 channels are provided for high parallelism and efficiency. The MX8 provides industry-leading WiFi-6E test capabilities with faster time to market, higher yields, and lower costs.\n",
      "INFO:__main__:source: https://www.teradyne.com/products/ultraflex/\n",
      "INFO:__main__:score: 0.026511315256357193, reranker: 2.090963840484619. UVI264 – High Precision, High Density DC Instrument  104 low voltage channels muxed to 248 connections 8 high voltage channels muxed to 16 connections Flexible channel merge for USB charging standard High precision DC measurements   The UltraFLEX Family\n",
      "INFO:__main__:source: https://www.teradyne.com/products/ultraflexplus/\n",
      "INFO:__main__:score: 0.0317540317773819, reranker: 2.068249225616455. Search for:   Close    Home  UltraFLEXplus   The World’s Leading Semiconductor Test Platform   The UltraFLEXplus combines new instrument and software capabilities with a revolutionary tester infrastructure that provides a step-function improvement in throughput and engineering efficiency – all while leveraging the cumulative test IP developed over the UltraFLEX’s long history.  AdvantagesApplications & ConfigurationsSystem OptionsUltraFLEX Family  Contact Teradyne   Advantages\n",
      "INFO:__main__:source: https://www.teradyne.com/products/ultraflexplus/\n",
      "INFO:__main__:score: 0.02038152515888214, reranker: 1.967409610748291. Teradyne’s award winning IG-XL software transforms test program development for the FLEX, UltraFLEX and J750 family of testers. Its powerful, yet easy-to-use, graphical environment lets engineers rapidly develop fully functional test programs, cutting program development and debugging time. Designed to address multisite complexity, IG-XL can convert single site test programs to multisite automatically, speeding time to market and reducing cost of test. With IG-XL, test engineers focus on actual testing, not writing code for the tester.\n",
      "INFO:__main__:source: https://www.teradyne.com/resources/ig-xl-software/\n",
      "INFO:__main__:score: 0.027745885774493217, reranker: 1.9635798931121826. The UltraWave24 high port count RF options provide up to 96 universal, vector RF ports with carrier frequencies and modulation bandwidths to cover the most advanced cellular and connectivity standards. The UltraWave options offer accuracy and phase noise performance equal to or better than the highest performance bench equipment available, and integrate waveform sourcing and capturing onboard to eliminate the need for additional tester instruments. The UltraFLEX ESA software toolkit and UltraDSP1 option provide industry-standard modulation and demodulation tools running on up to 32 dedicated processing cores with automatic data download via a dedicated high-speed data bus for simple correlation to industry standards and the highest possible throughput.\n",
      "INFO:__main__:source: https://www.teradyne.com/products/ultraflex/\n"
     ]
    }
   ],
   "source": [
    "test= process_search_results(r)"
   ]
  },
  {
   "cell_type": "code",
   "execution_count": 25,
   "metadata": {},
   "outputs": [
    {
     "data": {
      "text/plain": [
       "[{'content': 'The UltraWaveMX20-D16 is Teradyne’s lower frequency band instrument. It is also an extension to the UltraWave24 to provide additional test coverage up to 20 GHz. This frequency band targets devices that have WiFi-6, Cellular 5G, Ultra-wideband, and 5G-NR IF interfaces. Each UltraWaveMX20-D16 provides 16 mmWave ports in the test system with the ability to scale to 64 mmWave ports for high site count testing. The UltraWaveMX8 adds mid-band RF test capabilities to support WiFi-6E & 5G test needs. Adding the MX8 as a 1-slot upgrade to any UltraFLEX system with UltraWave24 extends the frequency range to 7.5GHz. Up to 160 MHz of bandwidth is available for supporting 802.11 modulated tests, and 16 RF ports with 8 channels are provided for high parallelism and efficiency. The MX8 provides industry-leading WiFi-6E test capabilities with faster time to market, higher yields, and lower costs.',\n",
       "  'source': 'https://www.teradyne.com/products/ultraflex/'},\n",
       " {'content': 'UVI264 – High Precision, High Density DC Instrument  104 low voltage channels muxed to 248 connections 8 high voltage channels muxed to 16 connections Flexible channel merge for USB charging standard High precision DC measurements   The UltraFLEX Family',\n",
       "  'source': 'https://www.teradyne.com/products/ultraflexplus/'},\n",
       " {'content': 'Search for:   Close    Home  UltraFLEXplus   The World’s Leading Semiconductor Test Platform   The UltraFLEXplus combines new instrument and software capabilities with a revolutionary tester infrastructure that provides a step-function improvement in throughput and engineering efficiency – all while leveraging the cumulative test IP developed over the UltraFLEX’s long history.  AdvantagesApplications & ConfigurationsSystem OptionsUltraFLEX Family  Contact Teradyne   Advantages',\n",
       "  'source': 'https://www.teradyne.com/products/ultraflexplus/'},\n",
       " {'content': 'Teradyne’s award winning IG-XL software transforms test program development for the FLEX, UltraFLEX and J750 family of testers. Its powerful, yet easy-to-use, graphical environment lets engineers rapidly develop fully functional test programs, cutting program development and debugging time. Designed to address multisite complexity, IG-XL can convert single site test programs to multisite automatically, speeding time to market and reducing cost of test. With IG-XL, test engineers focus on actual testing, not writing code for the tester.',\n",
       "  'source': 'https://www.teradyne.com/resources/ig-xl-software/'},\n",
       " {'content': 'The UltraWave24 high port count RF options provide up to 96 universal, vector RF ports with carrier frequencies and modulation bandwidths to cover the most advanced cellular and connectivity standards. The UltraWave options offer accuracy and phase noise performance equal to or better than the highest performance bench equipment available, and integrate waveform sourcing and capturing onboard to eliminate the need for additional tester instruments. The UltraFLEX ESA software toolkit and UltraDSP1 option provide industry-standard modulation and demodulation tools running on up to 32 dedicated processing cores with automatic data download via a dedicated high-speed data bus for simple correlation to industry standards and the highest possible throughput.',\n",
       "  'source': 'https://www.teradyne.com/products/ultraflex/'}]"
      ]
     },
     "execution_count": 25,
     "metadata": {},
     "output_type": "execute_result"
    }
   ],
   "source": [
    "test"
   ]
  }
 ],
 "metadata": {
  "kernelspec": {
   "display_name": "build-your-own-copilot",
   "language": "python",
   "name": "python3"
  },
  "language_info": {
   "codemirror_mode": {
    "name": "ipython",
    "version": 3
   },
   "file_extension": ".py",
   "mimetype": "text/x-python",
   "name": "python",
   "nbconvert_exporter": "python",
   "pygments_lexer": "ipython3",
   "version": "3.9.18"
  }
 },
 "nbformat": 4,
 "nbformat_minor": 2
}
